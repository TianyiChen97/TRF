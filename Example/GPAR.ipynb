{
 "cells": [
  {
   "cell_type": "markdown",
   "metadata": {},
   "source": [
    "# GPAR"
   ]
  },
  {
   "cell_type": "markdown",
   "metadata": {},
   "source": [
    "## 1) Install GPAR"
   ]
  },
  {
   "cell_type": "code",
   "execution_count": null,
   "metadata": {},
   "outputs": [],
   "source": [
    "import sys\n",
    "!{sys.executable} -m pip install gpar"
   ]
  },
  {
   "cell_type": "markdown",
   "metadata": {},
   "source": [
    "## 2) Import Libraries"
   ]
  },
  {
   "cell_type": "code",
   "execution_count": 1,
   "metadata": {},
   "outputs": [],
   "source": [
    "import pandas as pd\n",
    "import numpy as np\n",
    "import scipy as sp\n",
    "import math\n",
    "import tensorflow as tf\n",
    "import matplotlib.pyplot as plt\n",
    "import seaborn as sns\n",
    "import gpar"
   ]
  },
  {
   "cell_type": "code",
   "execution_count": 2,
   "metadata": {},
   "outputs": [],
   "source": [
    "from scipy.special import iv\n",
    "from scipy.optimize import fsolve\n",
    "\n",
    "from gpar.regression import GPARRegressor\n",
    "from scipy.stats import vonmises\n",
    "from scipy import stats\n",
    "from scipy.stats import entropy\n",
    "from scipy import interpolate"
   ]
  },
  {
   "cell_type": "markdown",
   "metadata": {},
   "source": [
    "## 3) Define Functions"
   ]
  },
  {
   "cell_type": "markdown",
   "metadata": {},
   "source": [
    "#### Functions below compute fits and pdf of Vonmises"
   ]
  },
  {
   "cell_type": "code",
   "execution_count": 3,
   "metadata": {},
   "outputs": [],
   "source": [
    "def vonmises_density(x,mu,kappa):\n",
    "    \"\"\"\n",
    "    Calculate the von Mises density for a series x (a 1D numpy.array).\n",
    "    Input : \n",
    "        x : a 1D numpy.array of size L\n",
    "        mu : a 1D numpy.array of size n, the mean of the von Mises distributions\n",
    "        kappa : a 1D numpy.array of size n, the dispersion of the von Mises distributions\n",
    "    Output : \n",
    "        a (L x n) numpy array, L is the length of the series, and n is the size of the array containing the parameters. Each row of the output corresponds to a density\n",
    "    \"\"\"\n",
    "    res = []\n",
    "    for i in x:\n",
    "        f = np.exp(kappa*np.cos(i-mu))\n",
    "        n = 2*np.pi*iv(0,kappa)\n",
    "        res.append(f/n)\n",
    "    return(np.array(res))\n",
    "\n",
    "def vonmises_pdfit(series):\n",
    "    \"\"\"\n",
    "    Calculate the estimator of the mean and deviation of a sample, for a von Mises distribution\n",
    "    Input : \n",
    "        series : a 1D numpy.array\n",
    "    Output : \n",
    "        the estimators of the parameters mu and kappa of a von Mises distribution, in an list [mu, kappa]\n",
    "    \"\"\"\n",
    "    s0 = np.mean(np.sin(series))\n",
    "    c0 = np.mean(np.cos(series))\n",
    "    mu = np.arctan2(s0,c0)\n",
    "    var = 1-np.sqrt(s0**2+c0**2)\n",
    "    k = lambda kappa: 1-iv(1,kappa)/iv(0,kappa)-var\n",
    "    kappa = fsolve(k, 0.0)[0]\n",
    "    return([mu,kappa])"
   ]
  },
  {
   "cell_type": "markdown",
   "metadata": {},
   "source": [
    "#### Function below computes KL divergence"
   ]
  },
  {
   "cell_type": "code",
   "execution_count": 4,
   "metadata": {},
   "outputs": [],
   "source": [
    "# Here is the function to define KL divergence\n",
    "# Note: the samplepdf and observationpdf is the probability density function, not the sample count.\n",
    "def kldiver(samplepdf, observationpdf):\n",
    "    print(\"\\nIndividual Entropy\\n\")\n",
    "    print(entropy(samplepdf))\n",
    "    print(entropy(observationpdf))\n",
    "\n",
    "    print(\"\\nPairwise Kullback Leibler divergence\\n\")\n",
    "    firstkl = entropy(samplepdf, qk=observationpdf)\n",
    "    secondkl = entropy(observationpdf, qk=samplepdf)\n",
    "    print(firstkl)\n",
    "    print(secondkl)\n",
    "    return (firstkl,secondkl)"
   ]
  },
  {
   "cell_type": "markdown",
   "metadata": {},
   "source": [
    "#### Function below computes inverse sampling"
   ]
  },
  {
   "cell_type": "code",
   "execution_count": 5,
   "metadata": {},
   "outputs": [],
   "source": [
    "def invcdf(vals, pdf, num_sam):\n",
    "    # Normalize\n",
    "    normalize = pdf/np.sum(pdf)\n",
    "    p = np.cumsum(normalize)\n",
    "    # define inverse function\n",
    "    inv_cdf = interpolate.interp1d(p,vals,bounds_error=False, fill_value = (-math.pi, math.pi))\n",
    "    # get number of data\n",
    "    r = np.random.rand(num_sam)\n",
    "    # get sample\n",
    "    sample = inv_cdf(r)\n",
    "    return sample"
   ]
  },
  {
   "cell_type": "markdown",
   "metadata": {},
   "source": [
    "#### Function below compute MSE and MAE"
   ]
  },
  {
   "cell_type": "code",
   "execution_count": 6,
   "metadata": {},
   "outputs": [],
   "source": [
    "# Here is the function to define the MSE and MAE\n",
    "def countdiff(bins, sample, observation):\n",
    "    if len(observation) != len(sample):\n",
    "        print(\"Please generate the same length data\")\n",
    "    length = len(observation)\n",
    "    sumup = 0\n",
    "    sumup2 = 0\n",
    "    # counts and divisions in the real data\n",
    "    count,division = np.histogram(listall,range=(-math.pi,math.pi),bins=bins)\n",
    "    # change the sample to numpy array, note: if it is already np array, comment it out\n",
    "    s = sample\n",
    "    # compute MSE\n",
    "    for j in range(len(count)):\n",
    "        modelCount = s[(division[j] < s) & (s < division[j+1])].size\n",
    "        sumup += np.square(count[j] - modelCount)\n",
    "        sumup2+= np.abs(count[j] - modelCount)\n",
    "    mse = sumup/bins\n",
    "    mae = sumup2/bins\n",
    "    print('The MSE is ' + str(mse))\n",
    "    print('The MAE is ' + str(mae))\n",
    "    return mse, mae "
   ]
  },
  {
   "cell_type": "markdown",
   "metadata": {},
   "source": [
    "#### Function below compute MSE"
   ]
  },
  {
   "cell_type": "code",
   "execution_count": 7,
   "metadata": {},
   "outputs": [],
   "source": [
    "# Here is the function to define the MSE\n",
    "def countdiffmse(bins, sample, observation):\n",
    "    length = len(observation)\n",
    "    sumup = 0\n",
    "    sumup2 = 0\n",
    "    # counts and divisions in the real data\n",
    "    count,division = np.histogram(listall,range=(-math.pi,math.pi),bins=bins)\n",
    "    # change the sample to numpy array, note: if it is already np array, comment it out\n",
    "    s = sample\n",
    "    # compute MSE\n",
    "    for j in range(len(count)):\n",
    "        modelCount = s[(division[j] < s) & (s < division[j+1])].size\n",
    "        sumup += np.square(count[j] - modelCount)\n",
    "        sumup2+= np.abs(count[j] - modelCount)\n",
    "    mse = sumup/bins\n",
    "    mae = sumup2/bins\n",
    "    return mse"
   ]
  },
  {
   "cell_type": "markdown",
   "metadata": {},
   "source": [
    "#### Function below compute MAE"
   ]
  },
  {
   "cell_type": "code",
   "execution_count": 8,
   "metadata": {},
   "outputs": [],
   "source": [
    "# Here is the function to define the MAE\n",
    "def countdiffmae(bins, sample, observation):\n",
    "    length = len(observation)\n",
    "    sumup = 0\n",
    "    sumup2 = 0\n",
    "    # counts and divisions in the real data\n",
    "    count,division = np.histogram(listall,range=(-math.pi,math.pi),bins=bins)\n",
    "    # change the sample to numpy array, note: if it is already np array, comment it out\n",
    "    s = sample\n",
    "    # compute MSE\n",
    "    for j in range(len(count)):\n",
    "        modelCount = s[(division[j] < s) & (s < division[j+1])].size\n",
    "        sumup += np.square(count[j] - modelCount)\n",
    "        sumup2+= np.abs(count[j] - modelCount)\n",
    "    mse = sumup/bins\n",
    "    mae = sumup2/bins\n",
    "    return mae"
   ]
  },
  {
   "cell_type": "markdown",
   "metadata": {},
   "source": [
    "#### Function Below compute average KL divergence of both way"
   ]
  },
  {
   "cell_type": "code",
   "execution_count": 9,
   "metadata": {},
   "outputs": [],
   "source": [
    "# Here is the function to define KL divergence\n",
    "# Note: the samplepdf and observationpdf is the probability density function, not the sample count.\n",
    "\n",
    "def kldiver2(samplepdf, observationpdf):\n",
    "    #print(\"\\nIndividual Entropy\\n\")\n",
    "    #print(entropy(samplepdf))\n",
    "    #print(entropy(observationpdf))\n",
    "\n",
    "    #print(\"\\nPairwise Kullback Leibler divergence\\n\")\n",
    "    firstkl = entropy(samplepdf, qk=observationpdf)\n",
    "    secondkl = entropy(observationpdf, qk=samplepdf)\n",
    "    #print(firstkl)\n",
    "    #print(secondkl)\n",
    "    #return (firstkl,secondkl)\n",
    "    return (firstkl+secondkl)/2"
   ]
  },
  {
   "cell_type": "markdown",
   "metadata": {},
   "source": [
    "# Data"
   ]
  },
  {
   "cell_type": "markdown",
   "metadata": {},
   "source": [
    "#### Load Data - Drop any unnecessary Columns you may have"
   ]
  },
  {
   "cell_type": "code",
   "execution_count": 11,
   "metadata": {},
   "outputs": [
    {
     "data": {
      "text/html": [
       "<div>\n",
       "<style scoped>\n",
       "    .dataframe tbody tr th:only-of-type {\n",
       "        vertical-align: middle;\n",
       "    }\n",
       "\n",
       "    .dataframe tbody tr th {\n",
       "        vertical-align: top;\n",
       "    }\n",
       "\n",
       "    .dataframe thead th {\n",
       "        text-align: right;\n",
       "    }\n",
       "</style>\n",
       "<table border=\"1\" class=\"dataframe\">\n",
       "  <thead>\n",
       "    <tr style=\"text-align: right;\">\n",
       "      <th></th>\n",
       "      <th>day</th>\n",
       "      <th>weekday</th>\n",
       "      <th>wakeup</th>\n",
       "      <th>firstMeal</th>\n",
       "      <th>lastMeal</th>\n",
       "      <th>sleep</th>\n",
       "    </tr>\n",
       "  </thead>\n",
       "  <tbody>\n",
       "    <tr>\n",
       "      <td>0</td>\n",
       "      <td>1</td>\n",
       "      <td>Monday</td>\n",
       "      <td>5.94</td>\n",
       "      <td>8.05</td>\n",
       "      <td>17.83</td>\n",
       "      <td>21.08</td>\n",
       "    </tr>\n",
       "    <tr>\n",
       "      <td>1</td>\n",
       "      <td>2</td>\n",
       "      <td>Tuesday</td>\n",
       "      <td>6.02</td>\n",
       "      <td>7.99</td>\n",
       "      <td>17.87</td>\n",
       "      <td>21.16</td>\n",
       "    </tr>\n",
       "    <tr>\n",
       "      <td>2</td>\n",
       "      <td>3</td>\n",
       "      <td>Wednesday</td>\n",
       "      <td>6.19</td>\n",
       "      <td>8.22</td>\n",
       "      <td>18.05</td>\n",
       "      <td>21.14</td>\n",
       "    </tr>\n",
       "    <tr>\n",
       "      <td>3</td>\n",
       "      <td>4</td>\n",
       "      <td>Thursday</td>\n",
       "      <td>5.99</td>\n",
       "      <td>8.08</td>\n",
       "      <td>18.11</td>\n",
       "      <td>20.95</td>\n",
       "    </tr>\n",
       "    <tr>\n",
       "      <td>4</td>\n",
       "      <td>5</td>\n",
       "      <td>Friday</td>\n",
       "      <td>5.83</td>\n",
       "      <td>8.06</td>\n",
       "      <td>17.78</td>\n",
       "      <td>20.75</td>\n",
       "    </tr>\n",
       "  </tbody>\n",
       "</table>\n",
       "</div>"
      ],
      "text/plain": [
       "   day    weekday  wakeup  firstMeal  lastMeal  sleep\n",
       "0    1     Monday    5.94       8.05     17.83  21.08\n",
       "1    2    Tuesday    6.02       7.99     17.87  21.16\n",
       "2    3  Wednesday    6.19       8.22     18.05  21.14\n",
       "3    4   Thursday    5.99       8.08     18.11  20.95\n",
       "4    5     Friday    5.83       8.06     17.78  20.75"
      ]
     },
     "execution_count": 11,
     "metadata": {},
     "output_type": "execute_result"
    }
   ],
   "source": [
    "df = pd.read_csv(\"sample.csv\")\n",
    "df = df.drop(columns=[\"Unnamed: 0\"])\n",
    "df.head()"
   ]
  },
  {
   "cell_type": "markdown",
   "metadata": {},
   "source": [
    "#### Convert Time String to make sure it will be in format (HH:MM:SS)"
   ]
  },
  {
   "cell_type": "code",
   "execution_count": null,
   "metadata": {},
   "outputs": [],
   "source": [
    "#start = []\n",
    "#end = []\n",
    "#for i in range(len(df['start_time'])):\n",
    "#    if len(df['start_time'][i]) < 8:\n",
    "#        start.append('0' + df['start_time'][i])\n",
    "#    else:\n",
    "#        start.append(df['start_time'][i])\n",
    "#    \n",
    "#    if len(df['end_time'][i]) < 8:\n",
    "#        end.append('0' + df['end_time'][i])\n",
    "#    else:\n",
    "#        end.append(df['end_time'][i])\n",
    "#df['start_time'] = start\n",
    "#df['end_time'] = end"
   ]
  },
  {
   "cell_type": "markdown",
   "metadata": {},
   "source": [
    "#### Convert time string in integer value 0 - 24"
   ]
  },
  {
   "cell_type": "code",
   "execution_count": null,
   "metadata": {},
   "outputs": [],
   "source": [
    "#convert_start = []\n",
    "#convert_end = []\n",
    "#for i in range(0,len(df[\"end_time\"])):\n",
    "#    convert_start.append(int(df[\"start_time\"][i][0:2]) + int(df[\"start_time\"][i][3:5])/60 + int(df[\"start_time\"][i][6:])/3600)\n",
    "#    convert_end.append(int(df[\"end_time\"][i][0:2]) + int(df[\"end_time\"][i][3:5])/60 + int(df[\"end_time\"][i][6:])/3600)\n",
    "#df[\"starthour\"] = convert_start\n",
    "#df[\"endhour\"] = convert_end"
   ]
  },
  {
   "cell_type": "markdown",
   "metadata": {},
   "source": [
    "#### Convert time into $-\\pi$ to $\\pi$"
   ]
  },
  {
   "cell_type": "code",
   "execution_count": 13,
   "metadata": {},
   "outputs": [],
   "source": [
    "wake = df[\"wakeup\"] * math.pi /12 - math.pi\n",
    "sleep = df[\"sleep\"] * math.pi /12 - math.pi"
   ]
  },
  {
   "cell_type": "code",
   "execution_count": 14,
   "metadata": {},
   "outputs": [],
   "source": [
    "meal1 = df[\"firstMeal\"] * math.pi /12 - math.pi\n",
    "meal2 = df[\"lastMeal\"] * math.pi /12 - math.pi"
   ]
  },
  {
   "cell_type": "markdown",
   "metadata": {},
   "source": [
    "#### Fit each of different type"
   ]
  },
  {
   "cell_type": "code",
   "execution_count": 15,
   "metadata": {},
   "outputs": [
    {
     "name": "stdout",
     "output_type": "stream",
     "text": [
      "[-1.499355970023588, 63.955037028964966]\n",
      "[2.4314895384784863, 66.32534957159996]\n"
     ]
    }
   ],
   "source": [
    "wake_val = vonmises_pdfit(wake)\n",
    "print(wake_val)\n",
    "sleep_val = vonmises_pdfit(sleep)\n",
    "print(sleep_val)"
   ]
  },
  {
   "cell_type": "code",
   "execution_count": 16,
   "metadata": {},
   "outputs": [
    {
     "name": "stdout",
     "output_type": "stream",
     "text": [
      "[-0.9732696449573787, 68.98089767207576]\n",
      "[1.6405517074358231, 69.1670164319464]\n"
     ]
    }
   ],
   "source": [
    "food1 = vonmises_pdfit(meal1)\n",
    "print(food1)\n",
    "food2 = vonmises_pdfit(meal2)\n",
    "print(food2)"
   ]
  },
  {
   "cell_type": "markdown",
   "metadata": {},
   "source": [
    "### Run GPAR"
   ]
  },
  {
   "cell_type": "markdown",
   "metadata": {},
   "source": [
    "#### There are many different ways to create different functions. The example below shows one of many ways the code could run."
   ]
  },
  {
   "cell_type": "code",
   "execution_count": 37,
   "metadata": {},
   "outputs": [
    {
     "name": "stdout",
     "output_type": "stream",
     "text": [
      "Training conditionals (total: 4): 1 2 3 4\n",
      "Sampling (total: 200): 1 2 3 4 5 6 7 8 9 10 11 12 13 14 15 16 17 18 19 20 21 22 23 24 25 26 27 28 29 30 31 32 33 34 35 36 37 38 39 40 41 42 43 44 45 46 47 48 49 50 51 52 53 54 55 56 57 58 59 60 61 62 63 64 65 66 67 68 69 70 71 72 73 74 75 76 77 78 79 80 81 82 83 84 85 86 87 88 89 90 91 92 93 94 95 96 97 98 99 100 101 102 103 104 105 106 107 108 109 110 111 112 113 114 115 116 117 118 119 120 121 122 123 124 125 126 127 128 129 130 131 132 133 134 135 136 137 138 139 140 141 142 143 144 145 146 147 148 149 150 151 152 153 154 155 156 157 158 159 160 161 162 163 164 165 166 167 168 169 170 171 172 173 174 175 176 177 178 179 180 181 182 183 184 185 186 187 188 189 190 191 192 193 194 195 196 197 198 199 200\n",
      "Training conditionals (total: 4): 1 2 3 4\n",
      "Sampling (total: 200): 1 2 3 4 5 6 7 8 9 10 11 12 13 14 15 16 17 18 19 20 21 22 23 24 25 26 27 28 29 30 31 32 33 34 35 36 37 38 39 40 41 42 43 44 45 46 47 48 49 50 51 52 53 54 55 56 57 58 59 60 61 62 63 64 65 66 67 68 69 70 71 72 73 74 75 76 77 78 79 80 81 82 83 84 85 86 87 88 89 90 91 92 93 94 95 96 97 98 99 100 101 102 103 104 105 106 107 108 109 110 111 112 113 114 115 116 117 118 119 120 121 122 123 124 125 126 127 128 129 130 131 132 133 134 135 136 137 138 139 140 141 142 143 144 145 146 147 148 149 150 151 152 153 154 155 156 157 158 159 160 161 162 163 164 165 166 167 168 169 170 171 172 173 174 175 176 177 178 179 180 181 182 183 184 185 186 187 188 189 190 191 192 193 194 195 196 197 198 199 200\n"
     ]
    },
    {
     "data": {
      "image/png": "[encoded data removed]",
      "text/plain": [
       "<Figure size 864x864 with 4 Axes>"
      ]
     },
     "metadata": {
      "needs_background": "light"
     },
     "output_type": "display_data"
    }
   ],
   "source": [
    "# Create toy data set.\n",
    "n = 1000\n",
    "x = np.linspace(-math.pi, math.pi, n)\n",
    "noise = 0.05\n",
    "\n",
    "# Draw functions depending on each other in complicated ways.\n",
    "# Wake\n",
    "f1 = vonmises_density(x,wake_val[0],wake_val[1])\n",
    "a1 = vonmises.rvs(wake_val[1],wake_val[0], size = 100)\n",
    "# Food\n",
    "food_val_a1 = vonmises_pdfit(list(meal1) +list(a1))\n",
    "f2 = vonmises_density(x,food_val_a1[0],food_val_a1[1])\n",
    "a2 = vonmises.rvs(food_val_a1[1],food_val_a1[0], size = 100)\n",
    "\n",
    "food_val_a2 = vonmises_pdfit(list(meal2) +list(a2))\n",
    "f3 = vonmises_density(x,food_val_a2[0],food_val_a2[1])\n",
    "a3 = vonmises.rvs(food_val_a2[1],food_val_a2[0], size = 100)\n",
    "\n",
    "# Sleep \n",
    "sleep_val_b = vonmises_pdfit(list(sleep) + list(a3))\n",
    "f4 = vonmises_density(x,sleep_val_b[0],sleep_val_b[1])\n",
    "\n",
    "f = np.stack((f1, f2, f3, f4), axis=0).T\n",
    "\n",
    "# Add noise and subsample.\n",
    "y = f + noise * np.random.randn(n, 4)\n",
    "x_obs, y_obs = x[::8], y[::8]\n",
    "\n",
    "# Fit and predict GPAR.\n",
    "model = GPARRegressor(scale=0.1,\n",
    "                      linear=False, #linear_scale=10.,\n",
    "                      nonlinear=True, nonlinear_scale=1,\n",
    "                      noise=0.05,\n",
    "                      impute=True, replace=True, normalise_y=False)\n",
    "model.fit(x_obs, y_obs)\n",
    "means, lowers, uppers = \\\n",
    "    model.predict(x, num_samples=200, credible_bounds=True, latent=True)\n",
    "\n",
    "# Fit and predict independent GPs: set markov=0.\n",
    "igp = GPARRegressor(scale=0.1,\n",
    "                    linear=False, #linear_scale=10.,\n",
    "                    nonlinear=True, nonlinear_scale=1,\n",
    "                    noise=0.05, markov=0, normalise_y=False)\n",
    "igp.fit(x_obs, y_obs)\n",
    "igp_means, igp_lowers, igp_uppers = \\\n",
    "    igp.predict(x, num_samples=200, credible_bounds=True, latent=True)\n",
    "\n",
    "# Plot the result.\n",
    "plt.figure(figsize=(12, 12))\n",
    "\n",
    "for i in range(4):\n",
    "    ax = plt.subplot(4, 1, i + 1)\n",
    "    ax.spines['right'].set_visible(False)\n",
    "    ax.spines['top'].set_visible(False)\n",
    "    ax.yaxis.set_ticks_position('left')\n",
    "    ax.xaxis.set_ticks_position('bottom')\n",
    "    plt.scatter(x_obs, y_obs[:, i], label='Observations', c='black', s=15)\n",
    "    plt.plot(x, f[:, i], label='Truth', c='tab:orange')\n",
    "    plt.plot(x, means[:, i], label='GPAR', c='tab:blue')\n",
    "    plt.fill_between(x, lowers[:, i], uppers[:, i],\n",
    "                     facecolor='tab:blue', alpha=.25)\n",
    "    plt.plot(x, igp_means[:, i], label='IGP', c='tab:green')\n",
    "    plt.fill_between(x, igp_lowers[:, i], igp_uppers[:, i],\n",
    "                     facecolor='tab:green', alpha=.25)\n",
    "    plt.xlabel('$t$')\n",
    "    plt.ylabel('$y_{}$'.format(i + 1))\n",
    "    if i == 2:\n",
    "        leg = plt.legend(facecolor='#eeeeee')\n",
    "        leg.get_frame().set_linewidth(0)\n",
    "\n",
    "plt.show()"
   ]
  },
  {
   "cell_type": "markdown",
   "metadata": {},
   "source": [
    "#### Make one gigantic function"
   ]
  },
  {
   "cell_type": "code",
   "execution_count": 44,
   "metadata": {},
   "outputs": [],
   "source": [
    "comb = []\n",
    "for i in range(0, len(igp_means)):\n",
    "    comb.append(igp_means[:,0][i]/4 + igp_means[:,1][i]/4 + igp_means[:,2][i]/4 + igp_means[:,3][i]/4)\n",
    "    \n",
    "listall = list(wake) + list(sleep) + list(meal1) + list(meal2)"
   ]
  },
  {
   "cell_type": "code",
   "execution_count": 45,
   "metadata": {},
   "outputs": [
    {
     "data": {
      "text/plain": [
       "<matplotlib.legend.Legend at 0x7f3047edba10>"
      ]
     },
     "execution_count": 45,
     "metadata": {},
     "output_type": "execute_result"
    },
    {
     "data": {
      "image/png": "[encoded data removed]",
      "text/plain": [
       "<Figure size 432x288 with 1 Axes>"
      ]
     },
     "metadata": {
      "needs_background": "light"
     },
     "output_type": "display_data"
    }
   ],
   "source": [
    "sns.kdeplot(listall,label='Actual data based kernel desnsity estimation')\n",
    "plt.plot(x, comb, label = 'GPAR')\n",
    "plt.hist(listall,density=True,label='Actual Data')\n",
    "plt.ylabel('Probability')\n",
    "plt.xlabel('Data')\n",
    "plt.legend()"
   ]
  },
  {
   "cell_type": "markdown",
   "metadata": {},
   "source": [
    "#### Compute KL"
   ]
  },
  {
   "cell_type": "code",
   "execution_count": 40,
   "metadata": {},
   "outputs": [
    {
     "name": "stdout",
     "output_type": "stream",
     "text": [
      "\n",
      "Individual Entropy\n",
      "\n",
      "6.902034078131946\n",
      "6.4900333061155075\n",
      "\n",
      "Pairwise Kullback Leibler divergence\n",
      "\n",
      "0.3488647300661589\n",
      "0.3919691803560431\n"
     ]
    },
    {
     "data": {
      "text/plain": [
       "(0.3488647300661589, 0.3919691803560431)"
      ]
     },
     "execution_count": 40,
     "metadata": {},
     "output_type": "execute_result"
    }
   ],
   "source": [
    "# generate the probability density function based on actual data\n",
    "actual_density = stats.kde.gaussian_kde(listall)\n",
    "actual_density = actual_density(x)\n",
    "kldiver(actual_density, comb)"
   ]
  },
  {
   "cell_type": "markdown",
   "metadata": {},
   "source": [
    "#### Compute MAE and MSE"
   ]
  },
  {
   "cell_type": "code",
   "execution_count": 41,
   "metadata": {},
   "outputs": [],
   "source": [
    "papermse = []\n",
    "papermae = []\n",
    "for i in range(1000):\n",
    "    samples = invcdf(x,comb, len(listall))\n",
    "    papermse.append(countdiffmse(48,samples, listall))\n",
    "    papermae.append(countdiffmae(48,samples, listall))"
   ]
  },
  {
   "cell_type": "code",
   "execution_count": 42,
   "metadata": {},
   "outputs": [
    {
     "name": "stdout",
     "output_type": "stream",
     "text": [
      "MSE mean is 202.8282708333333\n",
      "MSE lower is 176.70520833333333\n",
      "MSE upper is 228.51666666666665\n",
      "MAE mean is 8.295020833333332\n",
      "MAE lower is 7.666666666666667\n",
      "MAE upper is 8.958854166666667\n"
     ]
    }
   ],
   "source": [
    "meanmse = np.mean(papermse)\n",
    "meanmae = np.mean(papermae)\n",
    "lowersmse = np.percentile(papermse, 2.5)\n",
    "uppersmse = np.percentile(papermse, 100 - 2.5)\n",
    "lowersmae = np.percentile(papermae, 2.5)\n",
    "uppersmae = np.percentile(papermae, 100 - 2.5)\n",
    "\n",
    "print(\"MSE mean is \" + str(meanmse))\n",
    "print(\"MSE lower is \" + str(lowersmse))\n",
    "print(\"MSE upper is \" + str(uppersmse))\n",
    "\n",
    "print(\"MAE mean is \" + str(meanmae))\n",
    "print(\"MAE lower is \" + str(lowersmae))\n",
    "print(\"MAE upper is \" + str(uppersmae))"
   ]
  },
  {
   "cell_type": "code",
   "execution_count": null,
   "metadata": {},
   "outputs": [],
   "source": []
  },
  {
   "cell_type": "code",
   "execution_count": null,
   "metadata": {},
   "outputs": [],
   "source": []
  }
 ],
 "metadata": {
  "kernelspec": {
   "display_name": "Python 3.7 (py37)",
   "language": "python",
   "name": "py37"
  },
  "language_info": {
   "codemirror_mode": {
    "name": "ipython",
    "version": 3
   },
   "file_extension": ".py",
   "mimetype": "text/x-python",
   "name": "python",
   "nbconvert_exporter": "python",
   "pygments_lexer": "ipython3",
   "version": "3.7.4"
  }
 },
 "nbformat": 4,
 "nbformat_minor": 4
}
