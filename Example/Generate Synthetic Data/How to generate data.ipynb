{
 "cells": [
  {
   "cell_type": "code",
   "execution_count": null,
   "metadata": {},
   "outputs": [],
   "source": [
    "import pandas as pd\n",
    "import numpy as np\n",
    "import math\n",
    "import matplotlib.pyplot as plt\n",
    "import seaborn as sns\n",
    "from scipy.stats import vonmises\n",
    "import scipy.stats\n",
    "import random\n",
    "import ruptures as rpt\n",
    "from sklearn.metrics import confusion_matrix\n",
    "import warnings\n",
    "warnings.filterwarnings('ignore')"
   ]
  },
  {
   "cell_type": "code",
   "execution_count": null,
   "metadata": {},
   "outputs": [],
   "source": [
    "def frameCreate(differences, noises):\n",
    "    \n",
    "    # wakeup, first-meal, last-meal, sleep\n",
    "    wakeup, firstMeal, lastMeal, sleep = [], [], [], []\n",
    "    \n",
    "    # total 24 weeks, 5 days for weekday and 2 days for weekends\n",
    "    for i in range(24):\n",
    "        # weekdays\n",
    "        for j in range(5):\n",
    "            numberweekday1 = round(random.uniform(5-noises,5+noises), 2)\n",
    "            wakeup.append(numberweekday1)\n",
    "            numberweekday2 = round(random.uniform(7-noises,7+noises), 2)\n",
    "            firstMeal.append(numberweekday2)\n",
    "            numberweekday3 = round(random.uniform(17-noises,17+noises), 2)\n",
    "            lastMeal.append(numberweekday3)\n",
    "            numberweekday4 = round(random.uniform(20-noises,20+noises), 2)\n",
    "            sleep.append(numberweekday4)\n",
    "\n",
    "        # weekends\n",
    "        for k in range(2):\n",
    "            numberweekend1 = round(random.uniform(5+differences-noises,5+differences+noises), 2)\n",
    "            wakeup.append(numberweekend1)\n",
    "            numberweekend2 = round(random.uniform(7+differences-noises,7+differences+noises), 2)\n",
    "            firstMeal.append(numberweekend2)\n",
    "            numberweekend3 = round(random.uniform(17+differences-noises,17+differences+noises), 2)\n",
    "            lastMeal.append(numberweekend3)\n",
    "            numberweekend4 = round(random.uniform(20+differences-noises,20+differences+noises), 2)\n",
    "            sleep.append(numberweekend4)\n",
    "\n",
    "    return wakeup, firstMeal, lastMeal, sleep"
   ]
  },
  {
   "cell_type": "code",
   "execution_count": null,
   "metadata": {},
   "outputs": [],
   "source": [
    "# the process of creating the dataframe\n",
    "def createFrame(wakeup, firstMeal, lastMeal, sleep):\n",
    "    df = pd.read_csv(\"start.csv\")\n",
    "    df['wakeup'] = wakeup\n",
    "    df['firstMeal'] = firstMeal\n",
    "    df['lastMeal'] = lastMeal\n",
    "    df['sleep'] = sleep\n",
    "    return df"
   ]
  },
  {
   "cell_type": "code",
   "execution_count": null,
   "metadata": {},
   "outputs": [],
   "source": []
  }
 ],
 "metadata": {
  "kernelspec": {
   "display_name": "Python 3",
   "language": "python",
   "name": "python3"
  },
  "language_info": {
   "codemirror_mode": {
    "name": "ipython",
    "version": 3
   },
   "file_extension": ".py",
   "mimetype": "text/x-python",
   "name": "python",
   "nbconvert_exporter": "python",
   "pygments_lexer": "ipython3",
   "version": "3.7.4"
  }
 },
 "nbformat": 4,
 "nbformat_minor": 2
}
