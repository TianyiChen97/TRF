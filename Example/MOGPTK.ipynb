{
 "cells": [
  {
   "cell_type": "markdown",
   "metadata": {},
   "source": [
    "# MOGPTK"
   ]
  },
  {
   "cell_type": "markdown",
   "metadata": {},
   "source": [
    "## 1) Install Required Packages"
   ]
  },
  {
   "cell_type": "code",
   "execution_count": null,
   "metadata": {},
   "outputs": [],
   "source": [
    "import sys\n",
    "!{sys.executable} -m pip install tensorflow-probability==0.8.0 mogptk"
   ]
  },
  {
   "cell_type": "markdown",
   "metadata": {},
   "source": [
    "## 2) Load Libraries"
   ]
  },
  {
   "cell_type": "code",
   "execution_count": null,
   "metadata": {},
   "outputs": [],
   "source": [
    "import sys\n",
    "sys.path.insert(0, '../')\n",
    "%reload_ext autoreload\n",
    "%autoreload 2\n",
    "\n",
    "import mogptk\n",
    "#import gpflow\n",
    "import matplotlib.pyplot as plt\n",
    "import seaborn as sns\n",
    "import numpy as np\n",
    "import pandas as pd\n",
    "import datetime\n",
    "import scipy as sp\n",
    "import math\n",
    "import tensorflow as tf\n",
    "\n",
    "# plot config\n",
    "sns.set_context('paper', font_scale=1.4)\n",
    "sns.set_style('ticks')\n",
    "plt.rcParams['figure.figsize'] = (10, 5)"
   ]
  },
  {
   "cell_type": "markdown",
   "metadata": {},
   "source": [
    "## 3) Define Functions"
   ]
  },
  {
   "cell_type": "markdown",
   "metadata": {},
   "source": [
    "### Basic FrameWork"
   ]
  },
  {
   "cell_type": "code",
   "execution_count": null,
   "metadata": {},
   "outputs": [],
   "source": [
    "from scipy.special import iv\n",
    "from scipy.optimize import fsolve\n",
    "\n",
    "def vonmises_density(x,mu,kappa):\n",
    "    \"\"\"\n",
    "    Calculate the von Mises density for a series x (a 1D numpy.array).\n",
    "    Input : \n",
    "        x : a 1D numpy.array of size L\n",
    "        mu : a 1D numpy.array of size n, the mean of the von Mises distributions\n",
    "        kappa : a 1D numpy.array of size n, the dispersion of the von Mises distributions\n",
    "    Output : \n",
    "        a (L x n) numpy array, L is the length of the series, and n is the size of the array containing the parameters. Each row of the output corresponds to a density\n",
    "    \"\"\"\n",
    "    res = []\n",
    "    for i in x:\n",
    "        f = np.exp(kappa*np.cos(i-mu))\n",
    "        n = 2*np.pi*iv(0,kappa)\n",
    "        res.append(f/n)\n",
    "    return(np.array(res))\n",
    "\n",
    "def vonmises_pdfit(series):\n",
    "    \"\"\"\n",
    "    Calculate the estimator of the mean and deviation of a sample, for a von Mises distribution\n",
    "    Input : \n",
    "        series : a 1D numpy.array\n",
    "    Output : \n",
    "        the estimators of the parameters mu and kappa of a von Mises distribution, in an list [mu, kappa]\n",
    "    See https://en.wikipedia.org/wiki/Von_Mises_distribution \n",
    "    for more details on the von Mises distribution\n",
    "    \"\"\"\n",
    "    s0 = np.mean(np.sin(series))\n",
    "    c0 = np.mean(np.cos(series))\n",
    "    mu = np.arctan2(s0,c0)\n",
    "    var = 1-np.sqrt(s0**2+c0**2)\n",
    "    k = lambda kappa: 1-iv(1,kappa)/iv(0,kappa)-var\n",
    "    kappa = fsolve(k, 0.0)[0]\n",
    "    return([mu,kappa])"
   ]
  },
  {
   "cell_type": "code",
   "execution_count": null,
   "metadata": {},
   "outputs": [],
   "source": [
    "from scipy.stats import vonmises\n",
    "# Here is the function to define KL divergence\n",
    "# Note: the samplepdf and observationpdf is the probability density function, not the sample count.\n",
    "\n",
    "from scipy.stats import entropy\n",
    "\n",
    "def kldiver(samplepdf, observationpdf):\n",
    "    print(\"\\nIndividual Entropy\\n\")\n",
    "    print(entropy(samplepdf))\n",
    "    print(entropy(observationpdf))\n",
    "\n",
    "    print(\"\\nPairwise Kullback Leibler divergence\\n\")\n",
    "    firstkl = entropy(samplepdf, qk=observationpdf)\n",
    "    secondkl = entropy(observationpdf, qk=samplepdf)\n",
    "    print(firstkl)\n",
    "    print(secondkl)\n",
    "    return (firstkl,secondkl)"
   ]
  },
  {
   "cell_type": "code",
   "execution_count": null,
   "metadata": {},
   "outputs": [],
   "source": [
    "from scipy import stats\n",
    "# Here is the function to define KL divergence\n",
    "# Note: the samplepdf and observationpdf is the probability density function, not the sample count.\n",
    "\n",
    "from scipy.stats import entropy\n",
    "\n",
    "def kldiver2(samplepdf, observationpdf):\n",
    "    #print(\"\\nIndividual Entropy\\n\")\n",
    "    #print(entropy(samplepdf))\n",
    "    #print(entropy(observationpdf))\n",
    "\n",
    "    #print(\"\\nPairwise Kullback Leibler divergence\\n\")\n",
    "    firstkl = entropy(samplepdf, qk=observationpdf)\n",
    "    secondkl = entropy(observationpdf, qk=samplepdf)\n",
    "    #print(firstkl)\n",
    "    #print(secondkl)\n",
    "    #return (firstkl,secondkl)\n",
    "    return (firstkl+secondkl)/2"
   ]
  },
  {
   "cell_type": "code",
   "execution_count": null,
   "metadata": {},
   "outputs": [],
   "source": [
    "from scipy import interpolate\n",
    "\n",
    "def invcdf(vals, pdf, num_sam):\n",
    "    # Normalize\n",
    "    normalize = pdf/np.sum(pdf)\n",
    "    p = np.cumsum(normalize)\n",
    "    # define inverse function\n",
    "    inv_cdf = interpolate.interp1d(p,vals,bounds_error=False, fill_value = (-math.pi, math.pi))\n",
    "    # get number of data\n",
    "    r = np.random.rand(num_sam)\n",
    "    # get sample\n",
    "    sample = inv_cdf(r)\n",
    "    return sample"
   ]
  },
  {
   "cell_type": "code",
   "execution_count": null,
   "metadata": {},
   "outputs": [],
   "source": [
    "# Here is the function to define the MSE\n",
    "def countdiff(bins, sample, observation):\n",
    "    if len(observation) != len(sample):\n",
    "        print(\"Please generate the same length data\")\n",
    "    length = len(observation)\n",
    "    sumup = 0\n",
    "    sumup2 = 0\n",
    "    # counts and divisions in the real data\n",
    "    count,division = np.histogram(listall,range=(-math.pi,math.pi),bins=bins)\n",
    "    # change the sample to numpy array, note: if it is already np array, comment it out\n",
    "    s = sample\n",
    "    # compute MSE\n",
    "    for j in range(len(count)):\n",
    "        modelCount = s[(division[j] < s) & (s < division[j+1])].size\n",
    "        sumup += np.square(count[j] - modelCount)\n",
    "        sumup2+= np.abs(count[j] - modelCount)\n",
    "    mse = sumup/bins\n",
    "    mae = sumup2/bins\n",
    "    print('The MSE is ' + str(mse))\n",
    "    print('The MAE is ' + str(mae))\n",
    "    return mse, mae "
   ]
  },
  {
   "cell_type": "code",
   "execution_count": null,
   "metadata": {},
   "outputs": [],
   "source": [
    "# Here is the function to define the MSE\n",
    "def countdiffmse(bins, sample, observation):\n",
    "    length = len(observation)\n",
    "    sumup = 0\n",
    "    sumup2 = 0\n",
    "    # counts and divisions in the real data\n",
    "    count,division = np.histogram(listall,range=(-math.pi,math.pi),bins=bins)\n",
    "    # change the sample to numpy array, note: if it is already np array, comment it out\n",
    "    s = sample\n",
    "    # compute MSE\n",
    "    for j in range(len(count)):\n",
    "        modelCount = s[(division[j] < s) & (s < division[j+1])].size\n",
    "        sumup += np.square(count[j] - modelCount)\n",
    "        sumup2+= np.abs(count[j] - modelCount)\n",
    "    mse = sumup/bins\n",
    "    mae = sumup2/bins\n",
    "    return mse"
   ]
  },
  {
   "cell_type": "code",
   "execution_count": null,
   "metadata": {},
   "outputs": [],
   "source": [
    "# Here is the function to define the MAE\n",
    "def countdiffmae(bins, sample, observation):\n",
    "    length = len(observation)\n",
    "    sumup = 0\n",
    "    sumup2 = 0\n",
    "    # counts and divisions in the real data\n",
    "    count,division = np.histogram(listall,range=(-math.pi,math.pi),bins=bins)\n",
    "    # change the sample to numpy array, note: if it is already np array, comment it out\n",
    "    s = sample\n",
    "    # compute MSE\n",
    "    for j in range(len(count)):\n",
    "        modelCount = s[(division[j] < s) & (s < division[j+1])].size\n",
    "        sumup += np.square(count[j] - modelCount)\n",
    "        sumup2+= np.abs(count[j] - modelCount)\n",
    "    mse = sumup/bins\n",
    "    mae = sumup2/bins\n",
    "    return mae"
   ]
  },
  {
   "cell_type": "markdown",
   "metadata": {},
   "source": [
    "# Data"
   ]
  },
  {
   "cell_type": "markdown",
   "metadata": {},
   "source": [
    "### Applying the data"
   ]
  },
  {
   "cell_type": "code",
   "execution_count": null,
   "metadata": {},
   "outputs": [],
   "source": [
    "df = pd.read_csv(\"/home/idies/workspace/Storage/Genius/TRF/GPTK-SUB/June6th386users.csv\")\n",
    "df = df.drop(columns=[\"Unnamed: 0\"])\n",
    "df = df.drop(columns=[\"Unnamed: 0.1\"])\n",
    "df.head()"
   ]
  },
  {
   "cell_type": "markdown",
   "metadata": {},
   "source": [
    "#### Convert Time String to make sure it will be in format (HH:MM:SS)"
   ]
  },
  {
   "cell_type": "code",
   "execution_count": null,
   "metadata": {},
   "outputs": [],
   "source": [
    "start = []\n",
    "end = []\n",
    "for i in range(len(df['start_time'])):\n",
    "    if len(df['start_time'][i]) < 8:\n",
    "        start.append('0' + df['start_time'][i])\n",
    "    else:\n",
    "        start.append(df['start_time'][i])\n",
    "    \n",
    "    if len(df['end_time'][i]) < 8:\n",
    "        end.append('0' + df['end_time'][i])\n",
    "    else:\n",
    "        end.append(df['end_time'][i])\n",
    "df['start_time'] = start\n",
    "df['end_time'] = end"
   ]
  },
  {
   "cell_type": "markdown",
   "metadata": {},
   "source": [
    "#### Convert time string in integer value 0 - 24"
   ]
  },
  {
   "cell_type": "code",
   "execution_count": null,
   "metadata": {},
   "outputs": [],
   "source": [
    "convert_start = []\n",
    "convert_end = []\n",
    "for i in range(0,len(df[\"end_time\"])):\n",
    "    convert_start.append(int(df[\"start_time\"][i][0:2]) + int(df[\"start_time\"][i][3:5])/60 + int(df[\"start_time\"][i][6:])/3600)\n",
    "    convert_end.append(int(df[\"end_time\"][i][0:2]) + int(df[\"end_time\"][i][3:5])/60 + int(df[\"end_time\"][i][6:])/3600)\n",
    "df[\"starthour\"] = convert_start\n",
    "df[\"endhour\"] = convert_end"
   ]
  },
  {
   "cell_type": "code",
   "execution_count": null,
   "metadata": {},
   "outputs": [],
   "source": [
    "df3 = df[(df[\"name.s\"] == \"Sleep\")]\n",
    "wake = df3[\"endhour\"] * math.pi /12 - math.pi\n",
    "sleep = df3[\"starthour\"] * math.pi /12 - math.pi\n",
    "df2 = df[(df[\"name.s\"] == \"Food\")]\n",
    "food = df2[\"starthour\"] * math.pi /12 - math.pi\n",
    "listall = list(wake) + list(sleep) + list(food)\n",
    "wake_val = vonmises_pdfit(wake)\n",
    "sleep_val = vonmises_pdfit(sleep)"
   ]
  },
  {
   "cell_type": "markdown",
   "metadata": {},
   "source": [
    "#### Generate X and Y variable for MOGPTK"
   ]
  },
  {
   "cell_type": "code",
   "execution_count": null,
   "metadata": {},
   "outputs": [],
   "source": [
    "# Create toy data set.\n",
    "n = 1000\n",
    "x = np.linspace(-math.pi, math.pi, n)\n",
    "noise = 0.05\n",
    "\n",
    "# Draw functions depending on each other in complicated ways.\n",
    "# Wake\n",
    "f1a = vonmises_density(x,wake_val[0],wake_val[1])\n",
    "a1 = vonmises.rvs(wake_val[1],wake_val[0], size = 200)\n",
    "# Food\n",
    "\n",
    "food_val_a1 = vonmises_pdfit(list(food) +list(a1))\n",
    "f2a = vonmises_density(x,food_val_a1[0],food_val_a1[1])\n",
    "a2 = vonmises.rvs(food_val_a1[1],food_val_a1[0], size = 200)\n",
    "\n",
    "# Sleep \n",
    "sleep_val_b = vonmises_pdfit(list(sleep) + list(a2))\n",
    "f3a = vonmises_density(x,sleep_val_b[0],sleep_val_b[1])\n",
    "\n",
    "f = np.stack((f1a, f2a, f3a), axis=0).T\n",
    "\n",
    "\n",
    "# Add noise and subsample.\n",
    "y = f + noise * np.random.randn(n,3)\n",
    "x, y = x[::8], y[::8]\n",
    "\n",
    "data1 = mogptk.Data(x,y[:,0],name ='Wake Up Time')\n",
    "data2 = mogptk.Data(x,y[:,1],name ='Food Time')\n",
    "data3 = mogptk.Data(x,y[:,2],name ='Sleep Time')\n",
    "dataset = mogptk.DataSet(data1,data2,data3)"
   ]
  },
  {
   "cell_type": "code",
   "execution_count": null,
   "metadata": {},
   "outputs": [],
   "source": [
    "for channel in dataset:\n",
    "    channel.transform(mogptk.TransformDetrend(degree=1))\n",
    "    channel.transform(mogptk.TransformWhiten())\n",
    "dataset.plot();"
   ]
  },
  {
   "cell_type": "markdown",
   "metadata": {},
   "source": [
    "#### Applying the MOSM method ( multi-output spectral mixture)"
   ]
  },
  {
   "cell_type": "code",
   "execution_count": null,
   "metadata": {},
   "outputs": [],
   "source": [
    "\n",
    "model_MOSM = mogptk.MOSM(dataset, Q=2)\n",
    "\n",
    "# initialize parameters of kernel\n",
    "model_MOSM.init_parameters()\n",
    "model_MOSM.print_parameters()"
   ]
  },
  {
   "cell_type": "code",
   "execution_count": null,
   "metadata": {},
   "outputs": [],
   "source": [
    "# plot the prediction with untrained model\n",
    "x_pred = [x for i in range(len(dataset))]\n",
    "model_MOSM.predict(x_pred);\n",
    "\n",
    "model_MOSM.plot_prediction(title='Untrained model for MOSM');"
   ]
  },
  {
   "cell_type": "code",
   "execution_count": null,
   "metadata": {},
   "outputs": [],
   "source": [
    "model_MOSM.train(\n",
    "    method='L-BFGS-B',\n",
    "    tol=1e-60,\n",
    "    maxiter=500,\n",
    "    verbose=True)"
   ]
  },
  {
   "cell_type": "code",
   "execution_count": null,
   "metadata": {},
   "outputs": [],
   "source": [
    "model_MOSM.predict(x_pred);\n",
    "\n",
    "#model.plot_prediction(title='Trained model');\n",
    "#model.predict(x_pred)\n",
    "model_MOSM.plot_prediction(title='Trained model for MOSM');"
   ]
  },
  {
   "cell_type": "code",
   "execution_count": null,
   "metadata": {},
   "outputs": [],
   "source": []
  },
  {
   "cell_type": "markdown",
   "metadata": {},
   "source": [
    "#### Applying the CSM method (Cross Spectral Mixture)"
   ]
  },
  {
   "cell_type": "code",
   "execution_count": null,
   "metadata": {},
   "outputs": [],
   "source": [
    "\n",
    "model_csm = mogptk.CSM(dataset, Q=2)\n",
    "\n",
    "# initialize parameters of kernel\n",
    "model_csm.init_parameters()\n",
    "model_csm.print_parameters()"
   ]
  },
  {
   "cell_type": "code",
   "execution_count": null,
   "metadata": {},
   "outputs": [],
   "source": [
    "# plot the prediction with untrained model\n",
    "x_pred = [x for i in range(len(dataset))]\n",
    "model_csm.predict(x_pred);\n",
    "\n",
    "model_csm.plot_prediction(title='Untrained model for CSM');"
   ]
  },
  {
   "cell_type": "code",
   "execution_count": null,
   "metadata": {},
   "outputs": [],
   "source": [
    "model_csm.train(\n",
    "    method='L-BFGS-B',\n",
    "    tol=1e-60,\n",
    "    maxiter=500,\n",
    "    verbose=True)"
   ]
  },
  {
   "cell_type": "code",
   "execution_count": null,
   "metadata": {},
   "outputs": [],
   "source": [
    "model_csm.predict(x_pred);\n",
    "\n",
    "#model.plot_prediction(title='Trained model');\n",
    "#model.predict(x_pred)\n",
    "model_csm.plot_prediction(title='Trained model for MOSM');"
   ]
  },
  {
   "cell_type": "code",
   "execution_count": null,
   "metadata": {},
   "outputs": [],
   "source": []
  },
  {
   "cell_type": "markdown",
   "metadata": {},
   "source": [
    "#### Applying the SM-LMC Method (Spectral Mixture - Linear Model of Coregionalization)"
   ]
  },
  {
   "cell_type": "code",
   "execution_count": null,
   "metadata": {},
   "outputs": [],
   "source": [
    "\n",
    "model_smlmc = mogptk.SM_LMC(dataset, Q=2)\n",
    "\n",
    "# initialize parameters of kernel\n",
    "model_smlmc.init_parameters()\n",
    "model_smlmc.print_parameters()"
   ]
  },
  {
   "cell_type": "code",
   "execution_count": null,
   "metadata": {},
   "outputs": [],
   "source": [
    "# plot the prediction with untrained model\n",
    "x_pred = [x for i in range(len(dataset))]\n",
    "model_smlmc.predict(x_pred);\n",
    "\n",
    "model_smlmc.plot_prediction(title='Untrained model for SM_LMC');"
   ]
  },
  {
   "cell_type": "code",
   "execution_count": null,
   "metadata": {},
   "outputs": [],
   "source": [
    "model_smlmc.train(\n",
    "    method='L-BFGS-B',\n",
    "    tol=1e-60,\n",
    "    maxiter=500,\n",
    "    verbose=True)"
   ]
  },
  {
   "cell_type": "code",
   "execution_count": null,
   "metadata": {},
   "outputs": [],
   "source": [
    "model_smlmc.predict(x_pred);\n",
    "\n",
    "#model.plot_prediction(title='Trained model');\n",
    "#model.predict(x_pred)\n",
    "model_smlmc.plot_prediction(title='Trained model for SM_LMC');"
   ]
  },
  {
   "cell_type": "code",
   "execution_count": null,
   "metadata": {},
   "outputs": [],
   "source": []
  },
  {
   "cell_type": "markdown",
   "metadata": {},
   "source": [
    "### Combined all variable"
   ]
  },
  {
   "cell_type": "code",
   "execution_count": null,
   "metadata": {},
   "outputs": [],
   "source": [
    "plt.plot(x,y[:,0],label = \"Wake Up Time\")\n",
    "plt.plot(x,y[:,1],label = \"Meal Time\")\n",
    "plt.plot(x,y[:,2],label = \"Sleep Time\")\n",
    "plt.legend()"
   ]
  },
  {
   "cell_type": "code",
   "execution_count": null,
   "metadata": {},
   "outputs": [],
   "source": [
    "ya= np.zeros(len(y[:,0]))\n",
    "for i in range(0, len(y[:,0])):\n",
    "    ya[i] = (y[:,0][i] + y[:,1][i]  +y[:,2][i])/3\n",
    "plt.plot(x,ya)"
   ]
  },
  {
   "cell_type": "code",
   "execution_count": null,
   "metadata": {},
   "outputs": [],
   "source": [
    "datan = mogptk.Data(x, ya, name='Total')\n",
    "dataset1 = mogptk.DataSet(datan)"
   ]
  },
  {
   "cell_type": "markdown",
   "metadata": {},
   "source": [
    "#### Applying the MOSM method ( multi-output spectral mixture)"
   ]
  },
  {
   "cell_type": "code",
   "execution_count": null,
   "metadata": {},
   "outputs": [],
   "source": [
    "\n",
    "model_mosm = mogptk.MOSM(dataset1, Q=2)\n",
    "\n",
    "# initialize parameters of kernel\n",
    "model_mosm.init_parameters()\n",
    "model_mosm.print_parameters()"
   ]
  },
  {
   "cell_type": "code",
   "execution_count": null,
   "metadata": {},
   "outputs": [],
   "source": [
    "# plot the prediction with untrained model\n",
    "x_pred = [x for i in range(len(dataset1))]\n",
    "model_mosm.predict(x_pred);\n",
    "\n",
    "model_mosm.plot_prediction(title='Untrained model for MOSM');"
   ]
  },
  {
   "cell_type": "code",
   "execution_count": null,
   "metadata": {},
   "outputs": [],
   "source": [
    "model_mosm.train(\n",
    "    method='L-BFGS-B',\n",
    "    tol=1e-60,\n",
    "    maxiter=500,\n",
    "    verbose=True)"
   ]
  },
  {
   "cell_type": "code",
   "execution_count": null,
   "metadata": {},
   "outputs": [],
   "source": [
    "model_mosm.predict(x_pred);\n",
    "\n",
    "#model.plot_prediction(title='Trained model');\n",
    "#model.predict(x_pred)\n",
    "model_mosm.plot_prediction(title='Trained model for MOSM');"
   ]
  },
  {
   "cell_type": "code",
   "execution_count": null,
   "metadata": {},
   "outputs": [],
   "source": []
  },
  {
   "cell_type": "markdown",
   "metadata": {},
   "source": [
    "#### Applying the CSM method (Cross Spectral Mixture)"
   ]
  },
  {
   "cell_type": "code",
   "execution_count": null,
   "metadata": {},
   "outputs": [],
   "source": [
    "\n",
    "model_csm = mogptk.CSM(dataset1, Q=2)\n",
    "\n",
    "# initialize parameters of kernel\n",
    "model_csm.init_parameters()\n",
    "model_csm.print_parameters()"
   ]
  },
  {
   "cell_type": "code",
   "execution_count": null,
   "metadata": {},
   "outputs": [],
   "source": [
    "# plot the prediction with untrained model\n",
    "x_pred = [x for i in range(len(dataset1))]\n",
    "model_csm.predict(x_pred);\n",
    "\n",
    "model_csm.plot_prediction(title='Untrained model for CSM');"
   ]
  },
  {
   "cell_type": "code",
   "execution_count": null,
   "metadata": {},
   "outputs": [],
   "source": [
    "model_csm.train(\n",
    "    method='L-BFGS-B',\n",
    "    tol=1e-60,\n",
    "    maxiter=500,\n",
    "    verbose=True)"
   ]
  },
  {
   "cell_type": "code",
   "execution_count": null,
   "metadata": {},
   "outputs": [],
   "source": [
    "model_csm.predict(x_pred);\n",
    "\n",
    "#model.plot_prediction(title='Trained model');\n",
    "#model.predict(x_pred)\n",
    "model_csm.plot_prediction(title='Trained model for CSM');"
   ]
  },
  {
   "cell_type": "code",
   "execution_count": null,
   "metadata": {},
   "outputs": [],
   "source": []
  },
  {
   "cell_type": "markdown",
   "metadata": {},
   "source": [
    "#### Applying the SM-LMC Method (Spectral Mixture - Linear Model of Coregionalization)"
   ]
  },
  {
   "cell_type": "code",
   "execution_count": null,
   "metadata": {},
   "outputs": [],
   "source": [
    "\n",
    "model_smlmc = mogptk.SM_LMC(dataset1, Q=2)\n",
    "\n",
    "# initialize parameters of kernel\n",
    "model_smlmc.init_parameters()\n",
    "model_smlmc.print_parameters()"
   ]
  },
  {
   "cell_type": "code",
   "execution_count": null,
   "metadata": {},
   "outputs": [],
   "source": [
    "# plot the prediction with untrained model\n",
    "x_pred = [x for i in range(len(dataset1))]\n",
    "model_smlmc.predict(x_pred);\n",
    "\n",
    "model_smlmc.plot_prediction(title='Untrained model for SM_LMC');"
   ]
  },
  {
   "cell_type": "code",
   "execution_count": null,
   "metadata": {},
   "outputs": [],
   "source": [
    "model_smlmc.train(\n",
    "    method='L-BFGS-B',\n",
    "    tol=1e-60,\n",
    "    maxiter=500,\n",
    "    verbose=True)"
   ]
  },
  {
   "cell_type": "code",
   "execution_count": null,
   "metadata": {},
   "outputs": [],
   "source": [
    "model_csm.predict(x_pred);\n",
    "\n",
    "#model.plot_prediction(title='Trained model');\n",
    "#model.predict(x_pred)\n",
    "model_csm.plot_prediction(title='Trained model for SM_LMC');"
   ]
  },
  {
   "cell_type": "code",
   "execution_count": null,
   "metadata": {},
   "outputs": [],
   "source": []
  },
  {
   "cell_type": "markdown",
   "metadata": {},
   "source": [
    "#### Calculating the KL Divergence and MSE for this data"
   ]
  },
  {
   "cell_type": "code",
   "execution_count": null,
   "metadata": {},
   "outputs": [],
   "source": [
    "w1=model_mosm.predict()\n",
    "listall = list(wake) + list(sleep) + list(food)\n",
    "wn = w1[1][0]"
   ]
  },
  {
   "cell_type": "code",
   "execution_count": null,
   "metadata": {},
   "outputs": [],
   "source": [
    "sns.kdeplot(listall,label='Actual data based kernel desnsity estimation')\n",
    "plt.plot(x, wn, label = 'Trained Data for MOGPTK')\n",
    "plt.hist(listall,density=True,label='Actual Data')\n",
    "plt.ylabel('Probability')\n",
    "plt.xlabel('Data')\n",
    "plt.legend()"
   ]
  },
  {
   "cell_type": "code",
   "execution_count": null,
   "metadata": {},
   "outputs": [],
   "source": [
    "from scipy import stats\n",
    "from scipy.stats import entropy\n",
    "actual_density = stats.kde.gaussian_kde(listall)\n",
    "actual_density = actual_density(x)\n",
    "def converter(val):\n",
    "    for i in range(0, len(val)):\n",
    "        if (val[i] <=0):\n",
    "            val[i] = 10E-300\n",
    "    return val"
   ]
  },
  {
   "cell_type": "code",
   "execution_count": null,
   "metadata": {},
   "outputs": [],
   "source": [
    "converter(wn);\n",
    "print(\"\\nIndividual Entropy\\n\")\n",
    "print(entropy(wn, actual_density))"
   ]
  },
  {
   "cell_type": "code",
   "execution_count": null,
   "metadata": {},
   "outputs": [],
   "source": [
    "papermse = []\n",
    "papermae = []\n",
    "for i in range(1000):\n",
    "    samples = invcdf(x,wn, len(listall))\n",
    "    papermse.append(countdiffmse(48,samples, listall))\n",
    "    papermae.append(countdiffmae(48,samples, listall))"
   ]
  },
  {
   "cell_type": "code",
   "execution_count": null,
   "metadata": {},
   "outputs": [],
   "source": [
    "meanmse = np.mean(papermse)\n",
    "meanmae = np.mean(papermae)\n",
    "lowersmse = np.percentile(papermse, 2.5)\n",
    "uppersmse = np.percentile(papermse, 100 - 2.5)\n",
    "lowersmae = np.percentile(papermae, 2.5)\n",
    "uppersmae = np.percentile(papermae, 100 - 2.5)\n",
    "\n",
    "print(\"MSE mean is \" + str(meanmse))\n",
    "print(\"MSE lower is \" + str(lowersmse))\n",
    "print(\"MSE upper is \" + str(uppersmse))\n",
    "\n",
    "print(\"MAE mean is \" + str(meanmae))\n",
    "print(\"MAE lower is \" + str(lowersmae))\n",
    "print(\"MAE upper is \" + str(uppersmae))"
   ]
  },
  {
   "cell_type": "code",
   "execution_count": null,
   "metadata": {},
   "outputs": [],
   "source": []
  }
 ],
 "metadata": {
  "kernelspec": {
   "display_name": "Python 3.7 (py37)",
   "language": "python",
   "name": "py37"
  },
  "language_info": {
   "codemirror_mode": {
    "name": "ipython",
    "version": 3
   },
   "file_extension": ".py",
   "mimetype": "text/x-python",
   "name": "python",
   "nbconvert_exporter": "python",
   "pygments_lexer": "ipython3",
   "version": "3.7.4"
  }
 },
 "nbformat": 4,
 "nbformat_minor": 4
}
